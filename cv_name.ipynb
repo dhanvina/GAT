{
  "nbformat": 4,
  "nbformat_minor": 0,
  "metadata": {
    "colab": {
      "provenance": [],
      "authorship_tag": "ABX9TyNXZbe9D/gjeXWfPrrRuK8+",
      "include_colab_link": true
    },
    "kernelspec": {
      "name": "python3",
      "display_name": "Python 3"
    },
    "language_info": {
      "name": "python"
    },
    "gpuClass": "standard"
  },
  "cells": [
    {
      "cell_type": "markdown",
      "metadata": {
        "id": "view-in-github",
        "colab_type": "text"
      },
      "source": [
        "<a href=\"https://colab.research.google.com/github/dhanvina/GAT/blob/main/cv_name.ipynb\" target=\"_parent\"><img src=\"https://colab.research.google.com/assets/colab-badge.svg\" alt=\"Open In Colab\"/></a>"
      ]
    },
    {
      "cell_type": "code",
      "execution_count": 1,
      "metadata": {
        "id": "63LY9tWKUTmW"
      },
      "outputs": [],
      "source": [
        "import cv2\n",
        "import pandas as pd\n",
        "from google.colab.patches import cv2_imshow "
      ]
    },
    {
      "cell_type": "code",
      "source": [
        "df=pd.read_csv(\"/content/Code hunt Participants and volunteers list.csv\",index_col=\"Sl.No.\")\n",
        "df"
      ],
      "metadata": {
        "id": "XFtlbedRhN12"
      },
      "execution_count": null,
      "outputs": []
    },
    {
      "cell_type": "code",
      "source": [
        "df['Name of the Student'] = df['Name of the Student'].astype('string')"
      ],
      "metadata": {
        "id": "ucAhqOvtPdnk"
      },
      "execution_count": 3,
      "outputs": []
    },
    {
      "cell_type": "code",
      "source": [
        "df"
      ],
      "metadata": {
        "id": "Uw8696ZjPi8U"
      },
      "execution_count": null,
      "outputs": []
    },
    {
      "cell_type": "code",
      "source": [
        "img=cv2.imread(\"/content/1.jpg\")"
      ],
      "metadata": {
        "id": "7XTbQTi5U6Ir"
      },
      "execution_count": null,
      "outputs": []
    },
    {
      "cell_type": "code",
      "source": [
        "font = cv2.FONT_HERSHEY_SIMPLEX\n",
        "color = (0, 0, 0)\n",
        "thickness = 2\n",
        "org = (885,828)\n",
        "fontScale = 1"
      ],
      "metadata": {
        "id": "kHEBW8nnVHD5"
      },
      "execution_count": 11,
      "outputs": []
    },
    {
      "cell_type": "code",
      "source": [
        "for i in range(0,3):\n",
        "  cv2.imwrite(f\"{i}i.jpg\",img)"
      ],
      "metadata": {
        "id": "CzMtkFSlnKo1"
      },
      "execution_count": 20,
      "outputs": []
    },
    {
      "cell_type": "code",
      "source": [
        "for i in range(0,3):\n",
        "\n",
        "  img_path=f\"/content/{i}i.jpg\"\n",
        "  num = cv2.imread(img_path)\n",
        "\n",
        "  text=str(df[\"Name of the Student\"][i])\n",
        "  image = cv2.putText(num,text , org, font, fontScale, color, thickness, cv2.LINE_AA)\n",
        "\n",
        "  output_path = f\"{text}.jpg\"\n",
        "  cv2.imwrite(output_path,image)\n",
        "  cv2_imshow(image)\n",
        "cv2.waitKey(0)\n",
        "cv2.destroyAllWindows()"
      ],
      "metadata": {
        "id": "9qvz1erfVIYF"
      },
      "execution_count": null,
      "outputs": []
    }
  ]
}